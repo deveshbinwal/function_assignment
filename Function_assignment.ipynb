{
 "cells": [
  {
   "cell_type": "markdown",
   "id": "510e5104-5b94-4d11-b537-3b1e2a8fd83c",
   "metadata": {},
   "source": [
    "Q1. Which keyword is used to create a function? Create a function to return a list of odd numbers in the\n",
    "range of 1 to 25."
   ]
  },
  {
   "cell_type": "markdown",
   "id": "92c4e35e-b278-41e0-9434-ec08757474c7",
   "metadata": {},
   "source": [
    "The def keyword is used to create a function"
   ]
  },
  {
   "cell_type": "code",
   "execution_count": 1,
   "id": "78e46c8a-c65f-4b0e-bcd5-4e91134df059",
   "metadata": {},
   "outputs": [],
   "source": [
    "#program to return a list of odd numbers in the range of 1 to 25."
   ]
  },
  {
   "cell_type": "code",
   "execution_count": 2,
   "id": "88a168e5-ecfa-4990-b17e-2fcf785e923d",
   "metadata": {},
   "outputs": [],
   "source": [
    "l=list(range(1,26))   "
   ]
  },
  {
   "cell_type": "code",
   "execution_count": 3,
   "id": "0f258bc8-0e0d-4893-98f5-8b43168cf559",
   "metadata": {},
   "outputs": [
    {
     "data": {
      "text/plain": [
       "[1, 3, 5, 7, 9, 11, 13, 15, 17, 19, 21, 23, 25]"
      ]
     },
     "execution_count": 3,
     "metadata": {},
     "output_type": "execute_result"
    }
   ],
   "source": [
    "list(filter(lambda x:x%2!=0,l))  #using filter funtion"
   ]
  },
  {
   "cell_type": "code",
   "execution_count": 4,
   "id": "f181b759-c181-432f-8d49-e03de0aaf671",
   "metadata": {},
   "outputs": [],
   "source": [
    "def kok(a):            #usning normal for\n",
    "    fo=[]\n",
    "    for i in a:\n",
    "        if i%2==1:\n",
    "            fo.append(i)\n",
    "    return fo"
   ]
  },
  {
   "cell_type": "code",
   "execution_count": 5,
   "id": "1465460f-76ce-402d-97c7-36f78e20318a",
   "metadata": {},
   "outputs": [
    {
     "data": {
      "text/plain": [
       "[1, 3, 5, 7, 9, 11, 13, 15, 17, 19, 21, 23, 25]"
      ]
     },
     "execution_count": 5,
     "metadata": {},
     "output_type": "execute_result"
    }
   ],
   "source": [
    "kok(l)"
   ]
  },
  {
   "cell_type": "code",
   "execution_count": null,
   "id": "29c6619c-4b90-4fec-9473-acee91a33e87",
   "metadata": {},
   "outputs": [],
   "source": []
  },
  {
   "cell_type": "markdown",
   "id": "6032ff84-928e-43c5-a053-b7baa1c7f372",
   "metadata": {},
   "source": [
    "Q2. Why *args and **kwargs is used in some functions? Create a function each for *args and **kwargs to\n",
    "demonstrate their use."
   ]
  },
  {
   "cell_type": "markdown",
   "id": "83f4e25d-caec-49f8-8561-4863c9918541",
   "metadata": {},
   "source": [
    "We use *args and **kwargs as an argument when we are unsure about the number of arguments to pass in the functions, and **kwargs is used for showing data in form of key and value pair."
   ]
  },
  {
   "cell_type": "code",
   "execution_count": 9,
   "id": "cc27885b-b477-47d8-b0d2-79b5c9e8a7a4",
   "metadata": {},
   "outputs": [],
   "source": [
    "#Use of *args function\n",
    "def args(*a):\n",
    "    sum=0\n",
    "    for i in a:\n",
    "        sum = sum+i\n",
    "    print(\"Sum:\",sum)"
   ]
  },
  {
   "cell_type": "code",
   "execution_count": 10,
   "id": "e2575b09-65c3-44d2-b934-ae1ebe7b7f41",
   "metadata": {},
   "outputs": [
    {
     "name": "stdout",
     "output_type": "stream",
     "text": [
      "Sum: 15\n"
     ]
    }
   ],
   "source": [
    "args(1,2,3,4,5)"
   ]
  },
  {
   "cell_type": "code",
   "execution_count": 11,
   "id": "8a4cfbdb-6093-4c8a-bc9b-969e72629c72",
   "metadata": {},
   "outputs": [
    {
     "name": "stdout",
     "output_type": "stream",
     "text": [
      "Sum: 42\n"
     ]
    }
   ],
   "source": [
    "args(8,4,6,7,9,3,5)"
   ]
  },
  {
   "cell_type": "code",
   "execution_count": 12,
   "id": "98b605b5-b1c8-495f-8bbe-e7cb7687b7da",
   "metadata": {},
   "outputs": [],
   "source": [
    "#Program for **kwargs function\n",
    "\n",
    "def kwargs(**aa):\n",
    "    for i,j in aa.items():\n",
    "        print(\"{} is {}\".format(i,j))"
   ]
  },
  {
   "cell_type": "code",
   "execution_count": 13,
   "id": "bfc93649-16fa-4291-aac9-63115ad2f05f",
   "metadata": {},
   "outputs": [
    {
     "name": "stdout",
     "output_type": "stream",
     "text": [
      "Firstname is Devesh\n",
      "Lastname is Binwal\n",
      "Age is 22\n"
     ]
    }
   ],
   "source": [
    "kwargs(Firstname=\"Devesh\", Lastname=\"Binwal\", Age=\"22\")"
   ]
  },
  {
   "cell_type": "code",
   "execution_count": null,
   "id": "4dca3128-a69f-443b-9f36-18d032d5759c",
   "metadata": {},
   "outputs": [],
   "source": []
  },
  {
   "cell_type": "markdown",
   "id": "2ad86ed9-cd6e-463d-be89-64156c0d73f2",
   "metadata": {},
   "source": [
    "Q3. What is an iterator in python? Name the method used to initialise the iterator object and the method\n",
    "used for iteration. Use these methods to print the first five elements of the given list [2, 4, 6, 8, 10, 12, 14, 16,\n",
    "18, 20]."
   ]
  },
  {
   "cell_type": "markdown",
   "id": "dbdc04eb-b3d0-478b-880a-a338f64abb9d",
   "metadata": {},
   "source": [
    "In Python, an iterator is an object that allows iteration over a collection of elements, such as a list. It provides a way to access the elements of a collection sequentially, without exposing the underlying implementation."
   ]
  },
  {
   "cell_type": "code",
   "execution_count": 14,
   "id": "c4ad36b1-bc88-41a8-924c-22d01d8dc405",
   "metadata": {},
   "outputs": [
    {
     "name": "stdout",
     "output_type": "stream",
     "text": [
      "2\n",
      "4\n",
      "6\n",
      "8\n",
      "10\n"
     ]
    }
   ],
   "source": [
    "my_list = [2, 4, 6, 8, 10, 12, 14, 16, 18, 20]\n",
    "\n",
    "# Initialize the iterator object\n",
    "my_iterator = iter(my_list)\n",
    "\n",
    "# Iterate and print the first five elements\n",
    "for _ in range(5):\n",
    "    element = next(my_iterator)\n",
    "    print(element)\n",
    "\n",
    "    "
   ]
  },
  {
   "cell_type": "code",
   "execution_count": null,
   "id": "6e697ab4-9e0b-483e-8ee3-a24285eba8cd",
   "metadata": {},
   "outputs": [],
   "source": []
  },
  {
   "cell_type": "markdown",
   "id": "5b27c2a7-96c5-4817-9319-943181cff688",
   "metadata": {},
   "source": [
    "Q4. What is a generator function in python? Why yield keyword is used? Give an example of a generator\n",
    "function."
   ]
  },
  {
   "cell_type": "markdown",
   "id": "63ddc7d2-dd1f-46a6-b600-90b1b3d705a4",
   "metadata": {},
   "source": [
    "A generator function is a special type of function that returns an iterator object called a generator. It allows you to define an iterator in a more concise and elegant way compared to using regular iterator classes. Generator functions use the yield keyword to produce a sequence of values instead of return.\n",
    "\n",
    "The yield keyword is used in a generator function to indicate where the generator should pause its execution and yield a value to the caller. When a generator function is called, it returns a generator object that can be iterated over. Each time the yield statement is encountered during iteration, the generator function's state is saved, and the yielded value is returned to the caller. The next time the generator is iterated, it resumes execution from where it left off, instead of starting from the beginning of the function."
   ]
  },
  {
   "cell_type": "code",
   "execution_count": 15,
   "id": "1ff896d4-469c-41be-bd96-86da07784bd9",
   "metadata": {},
   "outputs": [],
   "source": [
    "def fibo(k):\n",
    "    a,b=0,1\n",
    "    for i in range(k):\n",
    "        yield a\n",
    "        a,b=b,a+b"
   ]
  },
  {
   "cell_type": "code",
   "execution_count": 16,
   "id": "2820dd96-7c08-49fa-a4ea-a71242c4e83e",
   "metadata": {},
   "outputs": [
    {
     "data": {
      "text/plain": [
       "<generator object fibo at 0x7fca4dcc3300>"
      ]
     },
     "execution_count": 16,
     "metadata": {},
     "output_type": "execute_result"
    }
   ],
   "source": [
    "fibo(10)"
   ]
  },
  {
   "cell_type": "code",
   "execution_count": 17,
   "id": "b83ae8ca-f988-4792-aed5-1e62ce5b4952",
   "metadata": {},
   "outputs": [
    {
     "name": "stdout",
     "output_type": "stream",
     "text": [
      "0\n",
      "1\n",
      "1\n",
      "2\n",
      "3\n",
      "5\n",
      "8\n",
      "13\n",
      "21\n",
      "34\n"
     ]
    }
   ],
   "source": [
    "for i in fibo(10):\n",
    "    print(i)"
   ]
  },
  {
   "cell_type": "code",
   "execution_count": null,
   "id": "e16690d4-9ab8-4e70-bcbe-d33660c95f0b",
   "metadata": {},
   "outputs": [],
   "source": []
  },
  {
   "cell_type": "markdown",
   "id": "b77a96ec-cd8a-4b22-a915-9ad6148b6a4b",
   "metadata": {},
   "source": [
    "Q5. Create a generator function for prime numbers less than 1000. Use the next() method to print the\n",
    "first 20 prime numbers."
   ]
  },
  {
   "cell_type": "code",
   "execution_count": 19,
   "id": "3a55ddd4-4466-46a6-8a92-ae711dc17e8c",
   "metadata": {},
   "outputs": [
    {
     "name": "stdout",
     "output_type": "stream",
     "text": [
      "2\n",
      "3\n",
      "5\n",
      "7\n",
      "11\n",
      "13\n",
      "17\n",
      "19\n",
      "23\n",
      "29\n",
      "31\n",
      "37\n",
      "41\n",
      "43\n",
      "47\n",
      "53\n",
      "59\n",
      "61\n",
      "67\n",
      "71\n"
     ]
    }
   ],
   "source": [
    "def generate_primes():\n",
    "    primes = []\n",
    "    num = 2\n",
    "\n",
    "    while True:\n",
    "        if all(num % prime != 0 for prime in primes):\n",
    "            primes.append(num)\n",
    "            yield num\n",
    "        num += 1\n",
    "\n",
    "# Create the prime number generator\n",
    "prime_generator = generate_primes()\n",
    "\n",
    "# Print the first 20 prime numbers\n",
    "for _ in range(20):\n",
    "    print(next(prime_generator))\n"
   ]
  },
  {
   "cell_type": "code",
   "execution_count": null,
   "id": "0d52fd41-387f-41d0-a4cd-ca8cade552fa",
   "metadata": {},
   "outputs": [],
   "source": []
  }
 ],
 "metadata": {
  "kernelspec": {
   "display_name": "Python 3 (ipykernel)",
   "language": "python",
   "name": "python3"
  },
  "language_info": {
   "codemirror_mode": {
    "name": "ipython",
    "version": 3
   },
   "file_extension": ".py",
   "mimetype": "text/x-python",
   "name": "python",
   "nbconvert_exporter": "python",
   "pygments_lexer": "ipython3",
   "version": "3.10.8"
  }
 },
 "nbformat": 4,
 "nbformat_minor": 5
}
